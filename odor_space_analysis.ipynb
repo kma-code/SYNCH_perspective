{
 "cells": [
  {
   "cell_type": "code",
   "execution_count": 19,
   "id": "complex-player",
   "metadata": {},
   "outputs": [],
   "source": [
    "import numpy as np\n",
    "import matplotlib.patches as mpatches\n",
    "import copy\n",
    "import json\n",
    "\n",
    "import pylab as plt\n",
    "plt.rc('text', usetex=True)\n",
    "plt.rc('font', size=15,family='serif')\n",
    "# plt.style.use('matplotlibrc')\n",
    "import matplotlib.gridspec as gridspec\n",
    "from matplotlib.ticker import FormatStrFormatter\n",
    "# plt.style.use('tableau-colorblind10')\n",
    "\n",
    "%matplotlib inline\n",
    "\n",
    "np.set_printoptions(linewidth=1000)\n",
    "\n",
    "receptor_labels = np.loadtxt(\"DoOR_datasets/receptor_labels.txt\", dtype='str', delimiter=',')\n",
    "odorant_labels = np.genfromtxt(\"DoOR_datasets/odorant_labels.txt\", dtype='str', delimiter='\\n')\n",
    "# # For the DoOR datasets, the odorant labels are also provided by their InChIKey\n",
    "# odorant_labels = np.loadtxt(\"DoOR_datasets/odorant_labels_InChIKey.txt\", dtype='str', delimiter=',')\n",
    "receptor_responses = np.loadtxt(\"DoOR_datasets/receptor_responses.csv\", delimiter=',')\n",
    "\n",
    "# exclude all receptors which are not Or\n",
    "Or_receptor_idx = np.where(np.char.find(receptor_labels, 'Or') == 0)[0]\n",
    "receptor_labels = receptor_labels[Or_receptor_idx]\n",
    "receptor_responses = receptor_responses[:,Or_receptor_idx]"
   ]
  },
  {
   "cell_type": "code",
   "execution_count": 20,
   "id": "incorporate-consortium",
   "metadata": {},
   "outputs": [
    {
     "data": {
      "text/plain": [
       "(694, 52)"
      ]
     },
     "execution_count": 20,
     "metadata": {},
     "output_type": "execute_result"
    }
   ],
   "source": [
    "assert receptor_responses.shape == (len(odorant_labels), len(receptor_labels))\n",
    "receptor_responses.shape"
   ]
  },
  {
   "cell_type": "markdown",
   "id": "prepared-crash",
   "metadata": {
    "tags": []
   },
   "source": [
    "# Analyse odor/OR space"
   ]
  },
  {
   "cell_type": "code",
   "execution_count": 21,
   "id": "understanding-defeat",
   "metadata": {},
   "outputs": [],
   "source": [
    "# calculate separability of response matrix\n",
    "def separability(response_mat):\n",
    "    sep = 0.0\n",
    "    # for each pair of rows (= odors)\n",
    "    for i in range(response_mat.shape[0]):\n",
    "        for j in range(response_mat.shape[0]):\n",
    "            if i == j:\n",
    "                continue\n",
    "            # calculate distance between odor responses\n",
    "            sep += np.linalg.norm(response_mat[i] - response_mat[j])\n",
    "    return sep\n",
    "\n",
    "def reduce_ORs(data, n_rec_max):\n",
    "\n",
    "    # take full data matrix (selected odors x all receptors)\n",
    "    reduced_data = data.copy()\n",
    "    selected_receptor_idx = np.arange(data.shape[1])\n",
    "    \n",
    "    # if n_rec_max is already same as number of ORs (before reduction)\n",
    "    if len(selected_receptor_idx) == n_rec_max:\n",
    "        return reduced_data, selected_receptor_idx\n",
    "\n",
    "    while len(selected_receptor_idx) != n_rec_max:\n",
    "        # reduce data matrix by one receptor and calculate distance\n",
    "        sep_arr = []\n",
    "        for i, rec_id in enumerate(selected_receptor_idx):\n",
    "            # kill one receptor\n",
    "            temp_reduced_data = reduced_data.copy()\n",
    "            temp_reduced_data[:, i] = 0\n",
    "            # calculate separability of newly reduced data\n",
    "            sep_arr.append(separability(temp_reduced_data))\n",
    "\n",
    "        # eliminate receptor that leaves the dataset with the highest separability\n",
    "        sep_arr = np.array(sep_arr)\n",
    "        selected_receptor_idx = np.delete(selected_receptor_idx, np.argmax(sep_arr))\n",
    "        reduced_data = np.delete(reduced_data, np.argmax(sep_arr), axis=1)\n",
    "    \n",
    "    return reduced_data, selected_receptor_idx"
   ]
  },
  {
   "cell_type": "markdown",
   "id": "announced-toronto",
   "metadata": {
    "tags": []
   },
   "source": [
    "## Example analysis"
   ]
  },
  {
   "cell_type": "code",
   "execution_count": 22,
   "id": "weekly-savannah",
   "metadata": {},
   "outputs": [],
   "source": [
    "# odor sets we want to investigate\n",
    "od_names = ['none', 'methanol', 'propyl acetate', 'cadaverine']\n",
    "\n",
    "# how many receptors we want to reconstitute\n",
    "N_OR = 7"
   ]
  },
  {
   "cell_type": "code",
   "execution_count": 23,
   "id": "interpreted-mountain",
   "metadata": {},
   "outputs": [
    {
     "name": "stdout",
     "output_type": "stream",
     "text": [
      "Performing analysis for odorants [693 131 164   4]:\n",
      "none\n",
      "methanol\n",
      "propyl acetate\n",
      "cadaverine\n",
      "\n",
      "Best receptors for N_OR = 7 :\n",
      "Selected receptor idx: [ 7 17 18 20 24 40 49]\n",
      "Selected receptors: ['Or22a' 'Or42a' 'Or42b' 'Or43b' 'Or47a' 'Or85b' 'Or98a'] \n",
      "\n"
     ]
    }
   ],
   "source": [
    "# convert odorant names into idx\n",
    "od_idx = np.array([np.where(odorant_labels == od_name) for od_name in od_names]).flatten()\n",
    "\n",
    "print(f\"Performing analysis for odorants {od_idx}:\")\n",
    "for od_id in od_idx:\n",
    "    print(str(odorant_labels[od_id]))\n",
    "\n",
    "reduced_data, selected_receptor_idx = reduce_ORs(receptor_responses[od_idx], N_OR)\n",
    "\n",
    "print(\"\\nBest receptors for N_OR =\", N_OR, \":\")\n",
    "print(\"Selected receptor idx:\", selected_receptor_idx)\n",
    "print(\"Selected receptors:\", receptor_labels[selected_receptor_idx], '\\n')"
   ]
  },
  {
   "cell_type": "markdown",
   "id": "shared-dubai",
   "metadata": {},
   "source": [
    "## Generate odor space analysis figure from paper:"
   ]
  },
  {
   "cell_type": "code",
   "execution_count": 24,
   "id": "cosmetic-williams",
   "metadata": {},
   "outputs": [],
   "source": [
    "# odor sets we want to investigate\n",
    "od_names_list = [['none', 'methanol', 'propyl acetate', 'gamma-butyrolactone'],\n",
    "                 ['none', 'methanol', 'benzyl alcohol', '2,3-butanediol'],\n",
    "                 ['none', 'methanol', 'ethanol', '1-propanol']]"
   ]
  },
  {
   "cell_type": "code",
   "execution_count": 29,
   "id": "subsequent-equivalent",
   "metadata": {},
   "outputs": [
    {
     "name": "stdout",
     "output_type": "stream",
     "text": [
      "Performing analysis for odorants [693 131 164  10]:\n",
      "none methanol propyl acetate gamma-butyrolactone \n",
      "\n",
      "Current number of receptors:  3\n",
      "Selected receptor idx: [16 17 18]\n",
      "Selected receptors: ['Or35a' 'Or42a' 'Or42b']\n",
      "Responses of selected receptors:\n",
      " [[0.         0.         0.        ]\n",
      " [0.18476624 0.         0.        ]\n",
      " [0.41241934 0.89735383 0.70744697]\n",
      " [0.32210266 0.         0.        ]] \n",
      "\n",
      "Performing analysis for odorants [693 131  97 149]:\n",
      "none methanol benzyl alcohol 2,3-butanediol \n",
      "\n",
      "Current number of receptors:  3\n",
      "Selected receptor idx: [ 3 33 46]\n",
      "Selected receptors: ['Or9a' 'Or67b' 'Or92a']\n",
      "Responses of selected receptors:\n",
      " [[0.         0.         0.        ]\n",
      " [0.15147615 0.         0.        ]\n",
      " [0.16562881 0.68727683 0.01056946]\n",
      " [0.62145427 0.25139821 0.49088645]] \n",
      "\n",
      "Performing analysis for odorants [693 131 132 133]:\n",
      "none methanol ethanol 1-propanol \n",
      "\n",
      "Current number of receptors:  3\n",
      "Selected receptor idx: [ 2  7 16]\n",
      "Selected receptors: ['Or7a' 'Or22a' 'Or35a']\n",
      "Responses of selected receptors:\n",
      " [[0.         0.         0.        ]\n",
      " [0.11325707 0.19508994 0.18476624]\n",
      " [0.13033368 0.19508994 0.17178232]\n",
      " [0.38013891 0.20222934 0.23954558]] \n",
      "\n"
     ]
    }
   ],
   "source": [
    "n_rec_sep_arr_list = []\n",
    "od_idx_list = []\n",
    "selected_receptors_list = []\n",
    "\n",
    "for od_names in od_names_list:\n",
    "    od_idx = np.array([np.where(odorant_labels == od_name) for od_name in od_names]).flatten()\n",
    "    od_idx_list.append(od_idx)\n",
    "\n",
    "    print(f\"Performing analysis for odorants {od_idx}:\")\n",
    "    for od_id in od_idx:\n",
    "        print(str(odorant_labels[od_id]), end =\" \")\n",
    "    print(\"\\n\")\n",
    "\n",
    "    n_rec_sep_arr = []\n",
    "    for n_rec_max in np.arange(len(receptor_responses[0]), 0, -1):\n",
    "        full_data = receptor_responses[od_idx]\n",
    "        reduced_data, selected_receptor_idx = reduce_ORs(full_data, n_rec_max)\n",
    "#         n_rec_sep_arr.append(separability(reduced_data)/separability(full_data))\n",
    "        n_rec_sep_arr.append(separability(reduced_data)) # do not normalize in order to compare with other odorants\n",
    "\n",
    "        if n_rec_max == 3:\n",
    "            print(\"Current number of receptors: \", n_rec_max)\n",
    "            print(\"Selected receptor idx:\", selected_receptor_idx)\n",
    "            print(\"Selected receptors:\", receptor_labels[selected_receptor_idx])\n",
    "            print(\"Responses of selected receptors:\\n\", reduced_data, '\\n')\n",
    "            selected_receptors_list.append(receptor_labels[selected_receptor_idx])\n",
    "\n",
    "    n_rec_sep_arr_list.append(n_rec_sep_arr)\n",
    "\n",
    "# normalize full results (over multiple od_names)\n",
    "n_rec_sep_arr_list = np.array(n_rec_sep_arr_list)\n",
    "n_rec_sep_arr_list = n_rec_sep_arr_list/np.max(n_rec_sep_arr_list)\n",
    "\n",
    "\n"
   ]
  },
  {
   "cell_type": "code",
   "execution_count": 18,
   "id": "modern-commercial",
   "metadata": {},
   "outputs": [
    {
     "name": "stdout",
     "output_type": "stream",
     "text": [
      "none, methanol, propyl acetate, $\\gamma$-butyrolactone\n",
      "best receptors:\n",
      "Or35a, Or42a, Or42b\n",
      "none, methanol, benzyl alcohol, 2,3-butanediol\n",
      "best receptors:\n",
      "Or9a, Or67b, Or92a\n",
      "none, methanol, ethanol, 1-propanol\n",
      "best receptors:\n",
      "Or7a, Or22a, Or35a\n"
     ]
    },
    {
     "data": {
      "image/png": "[encoded data removed]",
      "text/plain": [
       "<Figure size 500x330 with 1 Axes>"
      ]
     },
     "metadata": {},
     "output_type": "display_data"
    }
   ],
   "source": [
    "plt.figure(figsize=(5,3.3))\n",
    "\n",
    "for i, (n_rec_sep_arr, od_names, marker) in enumerate(zip(n_rec_sep_arr_list, od_names_list, ['o', 'X', 'd'])):\n",
    "\n",
    "    title = \"\"\n",
    "    for odr_title in od_names[:-1]:\n",
    "#         if odr_title == 'none':\n",
    "#             continue\n",
    "        title +=  str(odr_title) + ', '\n",
    "    if od_names[-1] == 'gamma-butyrolactone':\n",
    "        od_names[-1] = '$\\gamma$-butyrolactone'\n",
    "    title +=  str(od_names[-1])\n",
    "    plt.plot(np.arange(len(receptor_responses[0]), 0, -1), n_rec_sep_arr, marker=marker, ls=':', c='C'+str(i))\n",
    "    plt.scatter([None], [None], label=title, marker=marker, c='C'+str(i))\n",
    "    print(title)\n",
    "    print('best receptors:')\n",
    "    print(', '.join(map(str, selected_receptors_list[i])))\n",
    "    \n",
    "   \n",
    "# plt.title(title)\n",
    "plt.xlabel(\"number of receptors $N_\\\\mathrm{OR}$\")\n",
    "plt.ylabel(\"odor separability [a.u.]\")\n",
    "plt.xticks(np.append([1], np.arange(0, len(receptor_responses[0]), 5)))\n",
    "plt.xlim(0.25, len(receptor_labels)+0.75-32.25)\n",
    "plt.ylim(-0.1, 1.1)\n",
    "# plt.ylim(0, 4.02)\n",
    "# plt.tight_layout()\n",
    "leg = plt.legend(loc='lower right', prop={'size': 9.5}, borderpad=0.4, handletextpad=0.3, handlelength=1.0)\n",
    "\n",
    "for t in leg.get_texts():\n",
    "    t.set_verticalalignment(\"baseline\")\n",
    "\n",
    "out_name = np.array(od_idx_list).ravel()\n",
    "out_name = 'od_idx_' + '_'.join(map(str, out_name))\n",
    "\n",
    "plt.savefig('output/odor_space_analysis/' + out_name + '.pdf',bbox_inches='tight')\n",
    "plt.show()\n",
    "\n"
   ]
  },
  {
   "cell_type": "code",
   "execution_count": 9,
   "id": "cosmetic-designer",
   "metadata": {},
   "outputs": [
    {
     "data": {
      "image/png": "[encoded data removed]",
      "text/plain": [
       "<Figure size 150x150 with 1 Axes>"
      ]
     },
     "metadata": {},
     "output_type": "display_data"
    }
   ],
   "source": [
    "plt.figure(figsize=(1.5,1.5))\n",
    "\n",
    "for selected_receptors, marker in zip(selected_receptors_list, ['o', 'X', 'd']):\n",
    "    \n",
    "    plt.scatter(np.NaN, np.NaN, label=', '.join(map(str, selected_receptors)), marker=marker)\n",
    "#     plt.bar(np.arange(len(receptor_responses[0]), 0, -1), n_rec_sep_arr, label=title)\n",
    "        \n",
    "# plt.title(title)\n",
    "# plt.xlabel(\"number of receptors\")\n",
    "# plt.ylabel(\"odor separability [a.u.]\")\n",
    "# plt.xticks(np.arange(1, len(receptor_responses[0]), 5))\n",
    "# plt.xlim(0.25, len(receptor_labels)+0.75-50)\n",
    "# plt.ylim(0, 1.02)\n",
    "# plt.ylim(0, 4.02)\n",
    "plt.axis('off')\n",
    "plt.tight_layout()\n",
    "l = plt.legend(title='Best separability \\n for $N_\\\\mathrm{OR} = 3$:', loc='lower right', prop={'size': 13}, borderpad=0.3, handletextpad=0.2, handlelength=1.0)\n",
    "plt.setp(l.get_title(), multialignment='center')\n",
    "\n",
    "for t in l.get_texts():\n",
    "    t.set_verticalalignment(\"baseline\")\n",
    "\n",
    "out_name = np.array(od_idx_list).ravel()\n",
    "out_name = 'od_idx_' + '_'.join(map(str, out_name))\n",
    "\n",
    "plt.savefig('output/odor_space_analysis/' + out_name + '_ORs.pdf',bbox_inches='tight')\n",
    "plt.show()"
   ]
  },
  {
   "cell_type": "code",
   "execution_count": 14,
   "id": "alpine-robert",
   "metadata": {},
   "outputs": [
    {
     "data": {
      "text/plain": [
       "52"
      ]
     },
     "execution_count": 14,
     "metadata": {},
     "output_type": "execute_result"
    }
   ],
   "source": [
    "len(receptor_labels)"
   ]
  },
  {
   "cell_type": "code",
   "execution_count": null,
   "id": "anticipated-nevada",
   "metadata": {},
   "outputs": [],
   "source": []
  }
 ],
 "metadata": {
  "kernelspec": {
   "display_name": "SYNCHenv",
   "language": "python",
   "name": "synchenv"
  },
  "language_info": {
   "codemirror_mode": {
    "name": "ipython",
    "version": 3
   },
   "file_extension": ".py",
   "mimetype": "text/x-python",
   "name": "python",
   "nbconvert_exporter": "python",
   "pygments_lexer": "ipython3",
   "version": "3.11.2"
  }
 },
 "nbformat": 4,
 "nbformat_minor": 5
}
